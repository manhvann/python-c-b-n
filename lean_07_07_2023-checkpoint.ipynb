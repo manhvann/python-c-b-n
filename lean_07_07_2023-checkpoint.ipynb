{
 "cells": [
  {
   "cell_type": "markdown",
   "id": "d4fcdc8b",
   "metadata": {},
   "source": [
    "-------Nhập dữ liệu từ bàn phím bằng hàm input và hàm map-------------------"
   ]
  },
  {
   "cell_type": "code",
   "execution_count": 11,
   "id": "fe4c78ed",
   "metadata": {
    "scrolled": true
   },
   "outputs": [
    {
     "name": "stdout",
     "output_type": "stream",
     "text": [
      "Nhập chiều dai: 100\n",
      "Nhap chiều rộng: 200\n",
      "600.0 20000.0\n"
     ]
    }
   ],
   "source": [
    "a = float(input(\"Nhập chiều dai: \"))\n",
    "b = float(input(\"Nhap chiều rộng: \"))\n",
    "chuvi = (a+b)*2\n",
    "dientich = a*b\n",
    "print(chuvi, dientich)"
   ]
  },
  {
   "cell_type": "code",
   "execution_count": 12,
   "id": "b61fda32",
   "metadata": {},
   "outputs": [
    {
     "name": "stdout",
     "output_type": "stream",
     "text": [
      "Nhập 3 số: 100 200 300\n",
      "600\n"
     ]
    }
   ],
   "source": [
    "#Buoc 1 : nhap\n",
    "s = input(\"Nhập 3 số: \")\n",
    "#Buoc 2: Tach cac so ra\n",
    "a = s.split()\n",
    "#Sử dụng hàm map để ép các phần tử trong list sang kiểu dữ liệu mong muốn\n",
    "x,y,z=map(int,a)\n",
    "print(x + y + z)"
   ]
  },
  {
   "cell_type": "code",
   "execution_count": 14,
   "id": "38588540",
   "metadata": {},
   "outputs": [
    {
     "name": "stdout",
     "output_type": "stream",
     "text": [
      "Nhập 4 số nguyên : 1 2 3 4\n",
      "Tổng bốn số vừa nhập:  10\n"
     ]
    }
   ],
   "source": [
    "#Nhập 4 số nguyên trên 1 dòng\n",
    "x,y,z,t = map(int,input(\"Nhập 4 số nguyên : \").split())\n",
    "print(\"Tổng bốn số vừa nhập: \",x + y + z + t)"
   ]
  },
  {
   "cell_type": "markdown",
   "id": "40258001",
   "metadata": {},
   "source": [
    "--------Các hàm toán học có sẵn trong python----------------------------"
   ]
  },
  {
   "cell_type": "code",
   "execution_count": 16,
   "id": "71b634ca",
   "metadata": {},
   "outputs": [
    {
     "name": "stdout",
     "output_type": "stream",
     "text": [
      "5.916079783099616\n"
     ]
    }
   ],
   "source": [
    "import math\n",
    "#sqrt : square root\n",
    "print(math.sqrt(35))"
   ]
  },
  {
   "cell_type": "code",
   "execution_count": 28,
   "id": "3c3cf350",
   "metadata": {},
   "outputs": [
    {
     "name": "stdout",
     "output_type": "stream",
     "text": [
      "5.916079783099616\n",
      "5\n",
      "8.0\n",
      "3\n",
      "2\n",
      "1307674368000\n",
      "3\n",
      "45\n",
      "12.3\n"
     ]
    }
   ],
   "source": [
    "from math import *\n",
    "print(sqrt(35))\n",
    "\n",
    "\n",
    "#isqrt : hàm căn bậc 2 nhưng chỉ lấy phần nguyên\n",
    "print(isqrt(35))\n",
    "\n",
    "#pow : hàm lũy thừa trả về một số float\n",
    "print(pow(2,3))\n",
    "\n",
    "#ceil : Hàm auto làm tròn lên\n",
    "print(ceil(2.3))\n",
    "\n",
    "#floor : Hàm auto làm tròn xuống\n",
    "print(floor(2.3))\n",
    "\n",
    "#factorial : Hàm tính giai thừa\n",
    "print(factorial(15))\n",
    "\n",
    "#gcd(a,b) : Hàm tìm ước chung lớn nhất\n",
    "print(gcd(9,3))\n",
    "\n",
    "#comb : Hàm tính tổ hợp chập k của n\n",
    "print(comb(10,2))\n",
    "\n",
    "#fabs : Hàm lấy trị tuyệt đối\n",
    "print(fabs(-12.3))"
   ]
  },
  {
   "cell_type": "code",
   "execution_count": 21,
   "id": "3e6381be",
   "metadata": {
    "scrolled": true
   },
   "outputs": [
    {
     "name": "stdout",
     "output_type": "stream",
     "text": [
      "5.916079783099616129504738637479\n"
     ]
    }
   ],
   "source": [
    "from math import *\n",
    "print(\"{:.30f}\".format(sqrt(35)))"
   ]
  },
  {
   "cell_type": "markdown",
   "id": "79a6f4cb",
   "metadata": {},
   "source": [
    "Các hàm xây dựng sẵn"
   ]
  },
  {
   "cell_type": "code",
   "execution_count": 29,
   "id": "97151a9d",
   "metadata": {},
   "outputs": [
    {
     "name": "stdout",
     "output_type": "stream",
     "text": [
      "12\n",
      "1\n",
      "5\n",
      "15\n"
     ]
    }
   ],
   "source": [
    "print(round(12.235556))\n",
    "print(min(1,2,3,4,5))\n",
    "print(max(1,2,3,4,5))\n",
    "\n",
    "list = [1,2,3,4,5]\n",
    "\n",
    "print(sum(list))"
   ]
  },
  {
   "cell_type": "code",
   "execution_count": null,
   "id": "d8c9d2df",
   "metadata": {},
   "outputs": [],
   "source": []
  }
 ],
 "metadata": {
  "kernelspec": {
   "display_name": "Python 3 (ipykernel)",
   "language": "python",
   "name": "python3"
  },
  "language_info": {
   "codemirror_mode": {
    "name": "ipython",
    "version": 3
   },
   "file_extension": ".py",
   "mimetype": "text/x-python",
   "name": "python",
   "nbconvert_exporter": "python",
   "pygments_lexer": "ipython3",
   "version": "3.10.9"
  }
 },
 "nbformat": 4,
 "nbformat_minor": 5
}
